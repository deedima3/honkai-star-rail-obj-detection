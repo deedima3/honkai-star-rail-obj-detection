{
 "cells": [
  {
   "cell_type": "code",
   "execution_count": 16,
   "metadata": {},
   "outputs": [
    {
     "name": "stderr",
     "output_type": "stream",
     "text": [
      "New https://pypi.org/project/ultralytics/8.0.117 available  Update with 'pip install -U ultralytics'\n",
      "Ultralytics YOLOv8.0.114  Python-3.10.5 torch-2.0.1+cpu \n"
     ]
    },
    {
     "ename": "ValueError",
     "evalue": "Invalid CUDA 'device=3' requested. Use 'device=cpu' or pass valid CUDA device(s) if available, i.e. 'device=0' or 'device=0,1,2,3' for Multi-GPU.\n\ntorch.cuda.is_available(): False\ntorch.cuda.device_count(): 0\nos.environ['CUDA_VISIBLE_DEVICES']: 3\nSee https://pytorch.org/get-started/locally/ for up-to-date torch install instructions if no CUDA devices are seen by torch.\n",
     "output_type": "error",
     "traceback": [
      "\u001b[1;31m---------------------------------------------------------------------------\u001b[0m",
      "\u001b[1;31mValueError\u001b[0m                                Traceback (most recent call last)",
      "Cell \u001b[1;32mIn[16], line 5\u001b[0m\n\u001b[0;32m      3\u001b[0m \u001b[39mif\u001b[39;00m \u001b[39m__name__\u001b[39m \u001b[39m==\u001b[39m \u001b[39m\"\u001b[39m\u001b[39m__main__\u001b[39m\u001b[39m\"\u001b[39m:\n\u001b[0;32m      4\u001b[0m    model \u001b[39m=\u001b[39m YOLO(\u001b[39m'\u001b[39m\u001b[39myolov8n.pt\u001b[39m\u001b[39m'\u001b[39m)\n\u001b[1;32m----> 5\u001b[0m    results \u001b[39m=\u001b[39m model\u001b[39m.\u001b[39;49mtrain(\n\u001b[0;32m      6\u001b[0m       data\u001b[39m=\u001b[39;49m\u001b[39m'\u001b[39;49m\u001b[39mD:/Github/honkai-star-rail-obj-detection/backend/src/dataset/data.yaml\u001b[39;49m\u001b[39m'\u001b[39;49m,\n\u001b[0;32m      7\u001b[0m       imgsz\u001b[39m=\u001b[39;49m\u001b[39m1280\u001b[39;49m,\n\u001b[0;32m      8\u001b[0m       epochs\u001b[39m=\u001b[39;49m\u001b[39m30\u001b[39;49m,\n\u001b[0;32m      9\u001b[0m       batch\u001b[39m=\u001b[39;49m\u001b[39m8\u001b[39;49m,\n\u001b[0;32m     10\u001b[0m       name\u001b[39m=\u001b[39;49m\u001b[39m'\u001b[39;49m\u001b[39myolov8n_v8_50e\u001b[39;49m\u001b[39m'\u001b[39;49m,\n\u001b[0;32m     11\u001b[0m       device\u001b[39m=\u001b[39;49m\u001b[39m3\u001b[39;49m\n\u001b[0;32m     12\u001b[0m    )\n",
      "File \u001b[1;32mD:\\Github\\honkai-star-rail-obj-detection\\backend\\.venv\\lib\\site-packages\\ultralytics\\yolo\\engine\\model.py:366\u001b[0m, in \u001b[0;36mYOLO.train\u001b[1;34m(self, **kwargs)\u001b[0m\n\u001b[0;32m    364\u001b[0m     overrides[\u001b[39m'\u001b[39m\u001b[39mresume\u001b[39m\u001b[39m'\u001b[39m] \u001b[39m=\u001b[39m \u001b[39mself\u001b[39m\u001b[39m.\u001b[39mckpt_path\n\u001b[0;32m    365\u001b[0m \u001b[39mself\u001b[39m\u001b[39m.\u001b[39mtask \u001b[39m=\u001b[39m overrides\u001b[39m.\u001b[39mget(\u001b[39m'\u001b[39m\u001b[39mtask\u001b[39m\u001b[39m'\u001b[39m) \u001b[39mor\u001b[39;00m \u001b[39mself\u001b[39m\u001b[39m.\u001b[39mtask\n\u001b[1;32m--> 366\u001b[0m \u001b[39mself\u001b[39m\u001b[39m.\u001b[39mtrainer \u001b[39m=\u001b[39m TASK_MAP[\u001b[39mself\u001b[39;49m\u001b[39m.\u001b[39;49mtask][\u001b[39m1\u001b[39;49m](overrides\u001b[39m=\u001b[39;49moverrides, _callbacks\u001b[39m=\u001b[39;49m\u001b[39mself\u001b[39;49m\u001b[39m.\u001b[39;49mcallbacks)\n\u001b[0;32m    367\u001b[0m \u001b[39mif\u001b[39;00m \u001b[39mnot\u001b[39;00m overrides\u001b[39m.\u001b[39mget(\u001b[39m'\u001b[39m\u001b[39mresume\u001b[39m\u001b[39m'\u001b[39m):  \u001b[39m# manually set model only if not resuming\u001b[39;00m\n\u001b[0;32m    368\u001b[0m     \u001b[39mself\u001b[39m\u001b[39m.\u001b[39mtrainer\u001b[39m.\u001b[39mmodel \u001b[39m=\u001b[39m \u001b[39mself\u001b[39m\u001b[39m.\u001b[39mtrainer\u001b[39m.\u001b[39mget_model(weights\u001b[39m=\u001b[39m\u001b[39mself\u001b[39m\u001b[39m.\u001b[39mmodel \u001b[39mif\u001b[39;00m \u001b[39mself\u001b[39m\u001b[39m.\u001b[39mckpt \u001b[39melse\u001b[39;00m \u001b[39mNone\u001b[39;00m, cfg\u001b[39m=\u001b[39m\u001b[39mself\u001b[39m\u001b[39m.\u001b[39mmodel\u001b[39m.\u001b[39myaml)\n",
      "File \u001b[1;32mD:\\Github\\honkai-star-rail-obj-detection\\backend\\.venv\\lib\\site-packages\\ultralytics\\yolo\\engine\\trainer.py:83\u001b[0m, in \u001b[0;36mBaseTrainer.__init__\u001b[1;34m(self, cfg, overrides, _callbacks)\u001b[0m\n\u001b[0;32m     75\u001b[0m \u001b[39m\u001b[39m\u001b[39m\"\"\"\u001b[39;00m\n\u001b[0;32m     76\u001b[0m \u001b[39mInitializes the BaseTrainer class.\u001b[39;00m\n\u001b[0;32m     77\u001b[0m \n\u001b[1;32m   (...)\u001b[0m\n\u001b[0;32m     80\u001b[0m \u001b[39m    overrides (dict, optional): Configuration overrides. Defaults to None.\u001b[39;00m\n\u001b[0;32m     81\u001b[0m \u001b[39m\"\"\"\u001b[39;00m\n\u001b[0;32m     82\u001b[0m \u001b[39mself\u001b[39m\u001b[39m.\u001b[39margs \u001b[39m=\u001b[39m get_cfg(cfg, overrides)\n\u001b[1;32m---> 83\u001b[0m \u001b[39mself\u001b[39m\u001b[39m.\u001b[39mdevice \u001b[39m=\u001b[39m select_device(\u001b[39mself\u001b[39;49m\u001b[39m.\u001b[39;49margs\u001b[39m.\u001b[39;49mdevice, \u001b[39mself\u001b[39;49m\u001b[39m.\u001b[39;49margs\u001b[39m.\u001b[39;49mbatch)\n\u001b[0;32m     84\u001b[0m \u001b[39mself\u001b[39m\u001b[39m.\u001b[39mcheck_resume()\n\u001b[0;32m     85\u001b[0m \u001b[39mself\u001b[39m\u001b[39m.\u001b[39mvalidator \u001b[39m=\u001b[39m \u001b[39mNone\u001b[39;00m\n",
      "File \u001b[1;32mD:\\Github\\honkai-star-rail-obj-detection\\backend\\.venv\\lib\\site-packages\\ultralytics\\yolo\\utils\\torch_utils.py:73\u001b[0m, in \u001b[0;36mselect_device\u001b[1;34m(device, batch, newline, verbose)\u001b[0m\n\u001b[0;32m     70\u001b[0m         LOGGER\u001b[39m.\u001b[39minfo(s)\n\u001b[0;32m     71\u001b[0m         install \u001b[39m=\u001b[39m \u001b[39m'\u001b[39m\u001b[39mSee https://pytorch.org/get-started/locally/ for up-to-date torch install instructions if no \u001b[39m\u001b[39m'\u001b[39m \\\n\u001b[0;32m     72\u001b[0m                   \u001b[39m'\u001b[39m\u001b[39mCUDA devices are seen by torch.\u001b[39m\u001b[39m\\n\u001b[39;00m\u001b[39m'\u001b[39m \u001b[39mif\u001b[39;00m torch\u001b[39m.\u001b[39mcuda\u001b[39m.\u001b[39mdevice_count() \u001b[39m==\u001b[39m \u001b[39m0\u001b[39m \u001b[39melse\u001b[39;00m \u001b[39m'\u001b[39m\u001b[39m'\u001b[39m\n\u001b[1;32m---> 73\u001b[0m         \u001b[39mraise\u001b[39;00m \u001b[39mValueError\u001b[39;00m(\u001b[39mf\u001b[39m\u001b[39m\"\u001b[39m\u001b[39mInvalid CUDA \u001b[39m\u001b[39m'\u001b[39m\u001b[39mdevice=\u001b[39m\u001b[39m{\u001b[39;00mdevice\u001b[39m}\u001b[39;00m\u001b[39m'\u001b[39m\u001b[39m requested.\u001b[39m\u001b[39m\"\u001b[39m\n\u001b[0;32m     74\u001b[0m                          \u001b[39mf\u001b[39m\u001b[39m\"\u001b[39m\u001b[39m Use \u001b[39m\u001b[39m'\u001b[39m\u001b[39mdevice=cpu\u001b[39m\u001b[39m'\u001b[39m\u001b[39m or pass valid CUDA device(s) if available,\u001b[39m\u001b[39m\"\u001b[39m\n\u001b[0;32m     75\u001b[0m                          \u001b[39mf\u001b[39m\u001b[39m\"\u001b[39m\u001b[39m i.e. \u001b[39m\u001b[39m'\u001b[39m\u001b[39mdevice=0\u001b[39m\u001b[39m'\u001b[39m\u001b[39m or \u001b[39m\u001b[39m'\u001b[39m\u001b[39mdevice=0,1,2,3\u001b[39m\u001b[39m'\u001b[39m\u001b[39m for Multi-GPU.\u001b[39m\u001b[39m\\n\u001b[39;00m\u001b[39m\"\u001b[39m\n\u001b[0;32m     76\u001b[0m                          \u001b[39mf\u001b[39m\u001b[39m'\u001b[39m\u001b[39m\\n\u001b[39;00m\u001b[39mtorch.cuda.is_available(): \u001b[39m\u001b[39m{\u001b[39;00mtorch\u001b[39m.\u001b[39mcuda\u001b[39m.\u001b[39mis_available()\u001b[39m}\u001b[39;00m\u001b[39m'\u001b[39m\n\u001b[0;32m     77\u001b[0m                          \u001b[39mf\u001b[39m\u001b[39m'\u001b[39m\u001b[39m\\n\u001b[39;00m\u001b[39mtorch.cuda.device_count(): \u001b[39m\u001b[39m{\u001b[39;00mtorch\u001b[39m.\u001b[39mcuda\u001b[39m.\u001b[39mdevice_count()\u001b[39m}\u001b[39;00m\u001b[39m'\u001b[39m\n\u001b[0;32m     78\u001b[0m                          \u001b[39mf\u001b[39m\u001b[39m\"\u001b[39m\u001b[39m\\n\u001b[39;00m\u001b[39mos.environ[\u001b[39m\u001b[39m'\u001b[39m\u001b[39mCUDA_VISIBLE_DEVICES\u001b[39m\u001b[39m'\u001b[39m\u001b[39m]: \u001b[39m\u001b[39m{\u001b[39;00mvisible\u001b[39m}\u001b[39;00m\u001b[39m\\n\u001b[39;00m\u001b[39m\"\u001b[39m\n\u001b[0;32m     79\u001b[0m                          \u001b[39mf\u001b[39m\u001b[39m'\u001b[39m\u001b[39m{\u001b[39;00minstall\u001b[39m}\u001b[39;00m\u001b[39m'\u001b[39m)\n\u001b[0;32m     81\u001b[0m \u001b[39mif\u001b[39;00m \u001b[39mnot\u001b[39;00m cpu \u001b[39mand\u001b[39;00m \u001b[39mnot\u001b[39;00m mps \u001b[39mand\u001b[39;00m torch\u001b[39m.\u001b[39mcuda\u001b[39m.\u001b[39mis_available():  \u001b[39m# prefer GPU if available\u001b[39;00m\n\u001b[0;32m     82\u001b[0m     devices \u001b[39m=\u001b[39m device\u001b[39m.\u001b[39msplit(\u001b[39m'\u001b[39m\u001b[39m,\u001b[39m\u001b[39m'\u001b[39m) \u001b[39mif\u001b[39;00m device \u001b[39melse\u001b[39;00m \u001b[39m'\u001b[39m\u001b[39m0\u001b[39m\u001b[39m'\u001b[39m  \u001b[39m# range(torch.cuda.device_count())  # i.e. 0,1,6,7\u001b[39;00m\n",
      "\u001b[1;31mValueError\u001b[0m: Invalid CUDA 'device=3' requested. Use 'device=cpu' or pass valid CUDA device(s) if available, i.e. 'device=0' or 'device=0,1,2,3' for Multi-GPU.\n\ntorch.cuda.is_available(): False\ntorch.cuda.device_count(): 0\nos.environ['CUDA_VISIBLE_DEVICES']: 3\nSee https://pytorch.org/get-started/locally/ for up-to-date torch install instructions if no CUDA devices are seen by torch.\n"
     ]
    }
   ],
   "source": [
    "from ultralytics import YOLO\n",
    " \n",
    "if __name__ == \"__main__\":\n",
    "   model = YOLO('yolov8n.pt')\n",
    "   results = model.train(\n",
    "      data='D:/Github/honkai-star-rail-obj-detection/backend/src/dataset/data.yaml',\n",
    "      imgsz=1280,\n",
    "      epochs=30,\n",
    "      batch=8,\n",
    "      name='yolov8n_v8_50e',\n",
    "      device=3\n",
    "   )"
   ]
  },
  {
   "cell_type": "code",
   "execution_count": 1,
   "metadata": {},
   "outputs": [
    {
     "name": "stderr",
     "output_type": "stream",
     "text": [
      "Ultralytics YOLOv8.0.114  Python-3.10.5 torch-2.0.1+cpu CPU\n",
      "Model summary (fused): 168 layers, 3007208 parameters, 0 gradients\n",
      "\n",
      "\u001b[34m\u001b[1mPyTorch:\u001b[0m starting from D:\\Github\\honkai-star-rail-obj-detection\\runs\\detect\\yolov8n_v8_50e16\\weights\\best.pt with input shape (1, 3, 1280, 1280) BCHW and output shape(s) (1, 12, 33600) (6.0 MB)\n",
      "\n",
      "\u001b[34m\u001b[1mONNX:\u001b[0m starting export with onnx 1.14.0 opset 17...\n",
      "\u001b[34m\u001b[1mONNX:\u001b[0m export success  1.6s, saved as D:\\Github\\honkai-star-rail-obj-detection\\runs\\detect\\yolov8n_v8_50e16\\weights\\best.onnx (12.2 MB)\n",
      "\n",
      "Export complete (2.9s)\n",
      "Results saved to \u001b[1mD:\\Github\\honkai-star-rail-obj-detection\\runs\\detect\\yolov8n_v8_50e16\\weights\u001b[0m\n",
      "Predict:         yolo predict task=detect model=D:\\Github\\honkai-star-rail-obj-detection\\runs\\detect\\yolov8n_v8_50e16\\weights\\best.onnx imgsz=1280 \n",
      "Validate:        yolo val task=detect model=D:\\Github\\honkai-star-rail-obj-detection\\runs\\detect\\yolov8n_v8_50e16\\weights\\best.onnx imgsz=1280 data=C:/Development/DeepLearning/honkai-star-rail-obj-detection/backend/src/dataset/data.yaml \n",
      "Visualize:       https://netron.app\n"
     ]
    },
    {
     "name": "stdout",
     "output_type": "stream",
     "text": [
      "============== Diagnostic Run torch.onnx.export version 2.0.1+cpu ==============\n",
      "verbose: False, log level: Level.ERROR\n",
      "======================= 0 NONE 0 NOTE 0 WARNING 0 ERROR ========================\n",
      "\n"
     ]
    },
    {
     "data": {
      "text/plain": [
       "'D:\\\\Github\\\\honkai-star-rail-obj-detection\\\\runs\\\\detect\\\\yolov8n_v8_50e16\\\\weights\\\\best.onnx'"
      ]
     },
     "execution_count": 1,
     "metadata": {},
     "output_type": "execute_result"
    }
   ],
   "source": [
    "from ultralytics import YOLO\n",
    "\n",
    "# Load a model\n",
    "model = YOLO('yolov8n.pt')  # load an official model\n",
    "model = YOLO('D:/Github/honkai-star-rail-obj-detection/runs/detect/yolov8n_v8_50e16/weights/best.pt')  # load a custom trained\n",
    "\n",
    "# Export the model\n",
    "model.export(format='onnx', nms=True, simplify=True)"
   ]
  }
 ],
 "metadata": {
  "kernelspec": {
   "display_name": "Python 3 (ipykernel)",
   "language": "python",
   "name": "python3"
  },
  "language_info": {
   "codemirror_mode": {
    "name": "ipython",
    "version": 3
   },
   "file_extension": ".py",
   "mimetype": "text/x-python",
   "name": "python",
   "nbconvert_exporter": "python",
   "pygments_lexer": "ipython3",
   "version": "3.10.5"
  },
  "orig_nbformat": 4
 },
 "nbformat": 4,
 "nbformat_minor": 2
}
